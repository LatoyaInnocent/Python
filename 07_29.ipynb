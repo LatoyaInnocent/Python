{
  "nbformat": 4,
  "nbformat_minor": 0,
  "metadata": {
    "colab": {
      "name": "07/29.ipynb",
      "provenance": [],
      "collapsed_sections": [],
      "authorship_tag": "ABX9TyMRkr35J1P9VZMHopxUzuwO",
      "include_colab_link": true
    },
    "kernelspec": {
      "name": "python3",
      "display_name": "Python 3"
    },
    "language_info": {
      "name": "python"
    }
  },
  "cells": [
    {
      "cell_type": "markdown",
      "metadata": {
        "id": "view-in-github",
        "colab_type": "text"
      },
      "source": [
        "<a href=\"https://colab.research.google.com/github/LatoyaInnocent/Python/blob/main/07_29.ipynb\" target=\"_parent\"><img src=\"https://colab.research.google.com/assets/colab-badge.svg\" alt=\"Open In Colab\"/></a>"
      ]
    },
    {
      "cell_type": "code",
      "metadata": {
        "colab": {
          "base_uri": "https://localhost:8080/"
        },
        "id": "fbCq_-GBfXtR",
        "outputId": "00f7b132-f511-48ca-dddc-96eb7083cafb"
      },
      "source": [
        "foods = [\"chicken\", \"fried rice\", \"mac&cheese\", \"bacon bites\", \"pizza\"]\n",
        "for x in foods:\n",
        "  print(x)\n",
        "   \n",
        "print('end of loop')\n",
        "\n",
        "for food in foods:\n",
        "  print(food.title() + \", is one of my favorite foods\")\n",
        "\n",
        "for x in foods:\n",
        "  if x == \"fried rice\":\n",
        "    continue\n",
        "  print(x)    \n",
        "  "
      ],
      "execution_count": 37,
      "outputs": [
        {
          "output_type": "stream",
          "text": [
            "chicken\n",
            "fried rice\n",
            "mac&cheese\n",
            "bacon bites\n",
            "pizza\n",
            "end of loop\n",
            "Chicken, is one of my favorite foods\n",
            "Fried Rice, is one of my favorite foods\n",
            "Mac&Cheese, is one of my favorite foods\n",
            "Bacon Bites, is one of my favorite foods\n",
            "Pizza, is one of my favorite foods\n",
            "chicken\n",
            "mac&cheese\n",
            "bacon bites\n",
            "pizza\n"
          ],
          "name": "stdout"
        }
      ]
    },
    {
      "cell_type": "code",
      "metadata": {
        "id": "CUk-xThNtK8t"
      },
      "source": [
        ""
      ],
      "execution_count": null,
      "outputs": []
    },
    {
      "cell_type": "markdown",
      "metadata": {
        "id": "MFAbPNEcnh7f"
      },
      "source": [
        "or i in range(1,21):\n",
        "  if (i%2)==0:\n",
        "    print(i)\n",
        "#For the even numbers\n",
        "\n",
        "for num in range(1,20):  if num % 2 == 0:    print(num)"
      ]
    },
    {
      "cell_type": "code",
      "metadata": {
        "colab": {
          "base_uri": "https://localhost:8080/"
        },
        "id": "6jLkcA_StN7K",
        "outputId": "fe308a98-a804-4192-cca9-e191b28aeda8"
      },
      "source": [
        "for num in range (1,21):\n",
        "  print(num)"
      ],
      "execution_count": 41,
      "outputs": [
        {
          "output_type": "stream",
          "text": [
            "1\n",
            "2\n",
            "3\n",
            "4\n",
            "5\n",
            "6\n",
            "7\n",
            "8\n",
            "9\n",
            "10\n",
            "11\n",
            "12\n",
            "13\n",
            "14\n",
            "15\n",
            "16\n",
            "17\n",
            "18\n",
            "19\n",
            "20\n"
          ],
          "name": "stdout"
        }
      ]
    },
    {
      "cell_type": "code",
      "metadata": {
        "colab": {
          "base_uri": "https://localhost:8080/"
        },
        "id": "vTyljI3HtufA",
        "outputId": "1e4ad36b-3163-4bf6-e01e-b74cb0b3d22d"
      },
      "source": [
        "for num in range (1,21):\n",
        "  if num % 2 == 0:\n",
        "    print(num)"
      ],
      "execution_count": 45,
      "outputs": [
        {
          "output_type": "stream",
          "text": [
            "2\n",
            "4\n",
            "6\n",
            "8\n",
            "10\n",
            "12\n",
            "14\n",
            "16\n",
            "18\n",
            "20\n"
          ],
          "name": "stdout"
        }
      ]
    },
    {
      "cell_type": "code",
      "metadata": {
        "colab": {
          "base_uri": "https://localhost:8080/"
        },
        "id": "caAFtJGxt8V0",
        "outputId": "11eecde1-0a98-4af5-a082-bc068ddf25a4"
      },
      "source": [
        "for num in range (1,21):\n",
        "  if num % 3 == 0:\n",
        "    print(num)\n"
      ],
      "execution_count": 48,
      "outputs": [
        {
          "output_type": "stream",
          "text": [
            "3\n",
            "6\n",
            "9\n",
            "12\n",
            "15\n",
            "18\n"
          ],
          "name": "stdout"
        }
      ]
    },
    {
      "cell_type": "code",
      "metadata": {
        "id": "JHqJg0fC0zM2"
      },
      "source": [
        ""
      ],
      "execution_count": null,
      "outputs": []
    },
    {
      "cell_type": "markdown",
      "metadata": {
        "id": "YEHW7vGn03jp"
      },
      "source": [
        "Create a series of conditional tests using the following guidelines.  You should have at least one for true and false.\n",
        "Tests for equality and inequality with strings\n",
        "Numerical tests - =, !=, >, <, !=\n",
        "A test using and and or\n",
        "A test using int\n",
        "A test using not in\n"
      ]
    },
    {
      "cell_type": "code",
      "metadata": {
        "colab": {
          "base_uri": "https://localhost:8080/"
        },
        "id": "n1YVR1qF07F1",
        "outputId": "4ea3152a-9680-4b31-9eeb-fa52dbaa513a"
      },
      "source": [
        "names = ['Onica', 'Latoya', 'Ashley', 'Aliza']\n",
        "\n",
        "for name in names:\n",
        "  if name == 'Latoya':\n",
        "    print(name.upper())\n",
        "  else:\n",
        "    print(name.lower())  "
      ],
      "execution_count": 49,
      "outputs": [
        {
          "output_type": "stream",
          "text": [
            "onica\n",
            "LATOYA\n",
            "ashley\n",
            "aliza\n"
          ],
          "name": "stdout"
        }
      ]
    },
    {
      "cell_type": "code",
      "metadata": {
        "colab": {
          "base_uri": "https://localhost:8080/"
        },
        "id": "cYIHyS2d2Utg",
        "outputId": "f4b03345-e5ab-43e3-e3db-57ce51e11f3c"
      },
      "source": [
        "name = 'Onica'\n",
        "name == 'Onica'"
      ],
      "execution_count": 52,
      "outputs": [
        {
          "output_type": "execute_result",
          "data": {
            "text/plain": [
              "True"
            ]
          },
          "metadata": {
            "tags": []
          },
          "execution_count": 52
        }
      ]
    },
    {
      "cell_type": "code",
      "metadata": {
        "colab": {
          "base_uri": "https://localhost:8080/"
        },
        "id": "yvuKxdFi2aqP",
        "outputId": "c4475ca2-683e-4572-dbb2-e7a7a2edc5ba"
      },
      "source": [
        "name = 'Latoya'\n",
        "name == 'Onica'"
      ],
      "execution_count": 53,
      "outputs": [
        {
          "output_type": "execute_result",
          "data": {
            "text/plain": [
              "False"
            ]
          },
          "metadata": {
            "tags": []
          },
          "execution_count": 53
        }
      ]
    },
    {
      "cell_type": "code",
      "metadata": {
        "colab": {
          "base_uri": "https://localhost:8080/"
        },
        "id": "lLXfoMcM2l2x",
        "outputId": "33bcd0d6-193f-419a-d0df-b98ddd096bd5"
      },
      "source": [
        "name = 'onica'\n",
        "name == 'Onica'"
      ],
      "execution_count": 54,
      "outputs": [
        {
          "output_type": "execute_result",
          "data": {
            "text/plain": [
              "False"
            ]
          },
          "metadata": {
            "tags": []
          },
          "execution_count": 54
        }
      ]
    },
    {
      "cell_type": "code",
      "metadata": {
        "colab": {
          "base_uri": "https://localhost:8080/"
        },
        "id": "p1KM9Qgc3Cyy",
        "outputId": "84d01d2b-1442-42a1-cdd6-0f45de28d798"
      },
      "source": [
        "multiple_choice = 'true'\n",
        "if multiple_choice != 'false':\n",
        "  print('Incorrect answer!')"
      ],
      "execution_count": 56,
      "outputs": [
        {
          "output_type": "stream",
          "text": [
            "Incorrect answer!\n"
          ],
          "name": "stdout"
        }
      ]
    },
    {
      "cell_type": "code",
      "metadata": {
        "colab": {
          "base_uri": "https://localhost:8080/"
        },
        "id": "ZmdSeNKc3oOi",
        "outputId": "74a29018-f416-47a6-9400-c0269600fd9b"
      },
      "source": [
        "classA_size = 6\n",
        "classB_size = 2\n",
        "classA_size >= 4 or classB_size >= 3"
      ],
      "execution_count": 57,
      "outputs": [
        {
          "output_type": "execute_result",
          "data": {
            "text/plain": [
              "True"
            ]
          },
          "metadata": {
            "tags": []
          },
          "execution_count": 57
        }
      ]
    },
    {
      "cell_type": "code",
      "metadata": {
        "colab": {
          "base_uri": "https://localhost:8080/"
        },
        "id": "Aubxy7In4Job",
        "outputId": "5060071c-0b72-4d7a-d2b2-90e35e36b866"
      },
      "source": [
        "Astudents = ['john', 'david', 'sam']\n",
        "new_Astudents = 'manny'\n",
        "\n",
        "if new_Astudents not in Astudents:\n",
        "  print(new_Astudents.title() + \", was not in previous Astudents list. Please confirm.'\")"
      ],
      "execution_count": 60,
      "outputs": [
        {
          "output_type": "stream",
          "text": [
            "Manny, was not in previous Astudents list. Please confirm.'\n"
          ],
          "name": "stdout"
        }
      ]
    },
    {
      "cell_type": "code",
      "metadata": {
        "colab": {
          "base_uri": "https://localhost:8080/"
        },
        "id": "pqgKy46z5fix",
        "outputId": "4f7b26ff-a072-4ef2-d9d6-e3ecda2876a1"
      },
      "source": [
        "toppings = ['chocolate', 'sprinkles', 'gummy worms', 'syrup', 'caramel']\n",
        "\n",
        "for topping in toppings:\n",
        "  if topping == 'chocolate!':\n",
        "    print('All out of chocolate!')\n",
        "  else:\n",
        "    print('Adding the following topping!' + topping)  "
      ],
      "execution_count": 66,
      "outputs": [
        {
          "output_type": "stream",
          "text": [
            "Adding the following topping!chocolate\n",
            "Adding the following topping!sprinkles\n",
            "Adding the following topping!gummy worms\n",
            "Adding the following topping!syrup\n",
            "Adding the following topping!caramel\n"
          ],
          "name": "stdout"
        }
      ]
    }
  ]
}