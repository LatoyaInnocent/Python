{
  "nbformat": 4,
  "nbformat_minor": 0,
  "metadata": {
    "colab": {
      "name": "Python_Project.ipynb",
      "provenance": [],
      "collapsed_sections": [],
      "authorship_tag": "ABX9TyMHIKXc47lfguA4blDW32rA",
      "include_colab_link": true
    },
    "kernelspec": {
      "name": "python3",
      "display_name": "Python 3"
    },
    "language_info": {
      "name": "python"
    }
  },
  "cells": [
    {
      "cell_type": "markdown",
      "metadata": {
        "id": "view-in-github",
        "colab_type": "text"
      },
      "source": [
        "<a href=\"https://colab.research.google.com/github/LatoyaInnocent/Python/blob/main/Python_Project.ipynb\" target=\"_parent\"><img src=\"https://colab.research.google.com/assets/colab-badge.svg\" alt=\"Open In Colab\"/></a>"
      ]
    },
    {
      "cell_type": "markdown",
      "metadata": {
        "id": "gqg-KTE5mcqb"
      },
      "source": [
        "Make a two-player Rock-Paper-Scissors game. (Hint: Ask for player plays (using input), compare them, print out a message of congratulations to the winner, and ask if the players want to start a new game.)\n",
        "\n",
        "Remember the rules:\n",
        "- Rock beats scissors\n",
        "- Scissors beats paper\n",
        "- Paper beats rock"
      ]
    },
    {
      "cell_type": "code",
      "metadata": {
        "colab": {
          "base_uri": "https://localhost:8080/"
        },
        "id": "E9h5qkPTnAr8",
        "outputId": "111d88fc-5f95-4c34-90e2-f3da79a016a0"
      },
      "source": [
        "print(\" START GAME \")\n",
        "play = True\n",
        "while(play==True):\n",
        "  player_1 = input(\"Enter rock, paper, or scissors ? \")\n",
        "  player_2 = input(\"Enter rock, paper, or scissors ? \")\n",
        "  if player_1 == \"rock\":\n",
        "    if player_2 == \"rock\":\n",
        "      print(\"It's a tie\")\n",
        "  elif player_2 == \"scissors\":\n",
        "      print(\"rock beats scissors, Congratulations Player 1 wins!\")\n",
        "  elif player_1 == \"paper\":\n",
        "      print(\"rock beats paper, Congratulations Player 2 wins!\")\n",
        "  elif player_1 == \"paper\":\n",
        "    if player_2 == \"paper\":\n",
        "      print(\"It's a tie\")\n",
        "  elif player_1 == \"scissors\":\n",
        "      print(\" scissors beat paper, Congratulations Player 2 wins!\")\n",
        "  elif player_1 == \"rock\":\n",
        "      print(\"rock beats paper, Congratulations Player 1 wins!\")\n",
        "  elif player_1 == \"scissors\":\n",
        "    if player_2 == \"scissors\":\n",
        "      print(\" It's a tie\")\n",
        "  elif player_2 == \"paper\":\n",
        "   print(\"scissors beats paper, Congratulations Player 1 wins!\")\n",
        "  elif player_2 == \"rock\":\n",
        "   print(\" rock beats scissors, Congratulations Player 2 wins!\")   \n",
        "play_again = input(\"Would you like to start a new game? Yes or No? \")\n",
        "if play_again == \"Yes\":\n",
        "    play = True\n",
        "else:\n",
        "    play = False  "
      ],
      "execution_count": null,
      "outputs": [
        {
          "output_type": "stream",
          "text": [
            " START GAME \n",
            "Enter rock, paper, or scissors ? roc\n",
            "Enter rock, paper, or scissors ? paper\n",
            "scissors beats paper, Congratulations Player 1 wins!\n",
            "Enter rock, paper, or scissors ? paper \n",
            "Enter rock, paper, or scissors ? rock\n",
            " rock beats scissors, Congratulations Player 2 wins!\n",
            "Enter rock, paper, or scissors ? rock\n",
            "Enter rock, paper, or scissors ? rock\n",
            "It's a tie\n",
            "Enter rock, paper, or scissors ? scissors\n",
            "Enter rock, paper, or scissors ? rock\n",
            " scissors beat paper, Congratulations Player 2 wins!\n"
          ],
          "name": "stdout"
        }
      ]
    }
  ]
}