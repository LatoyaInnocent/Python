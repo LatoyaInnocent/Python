{
  "nbformat": 4,
  "nbformat_minor": 0,
  "metadata": {
    "colab": {
      "name": "07/30.ipynb",
      "provenance": [],
      "authorship_tag": "ABX9TyOYhQqQKsJ2A8+JL85hN+Jc",
      "include_colab_link": true
    },
    "kernelspec": {
      "name": "python3",
      "display_name": "Python 3"
    },
    "language_info": {
      "name": "python"
    }
  },
  "cells": [
    {
      "cell_type": "markdown",
      "metadata": {
        "id": "view-in-github",
        "colab_type": "text"
      },
      "source": [
        "<a href=\"https://colab.research.google.com/github/LatoyaInnocent/Python/blob/main/07_30.ipynb\" target=\"_parent\"><img src=\"https://colab.research.google.com/assets/colab-badge.svg\" alt=\"Open In Colab\"/></a>"
      ]
    },
    {
      "cell_type": "markdown",
      "metadata": {
        "id": "qZ8eAJQloLqT"
      },
      "source": [
        "Dictionary\n"
      ]
    },
    {
      "cell_type": "code",
      "metadata": {
        "colab": {
          "base_uri": "https://localhost:8080/"
        },
        "id": "CAaj472VCLIb",
        "outputId": "0240a200-0533-4699-8c67-67cbf0939c8a"
      },
      "source": [
        "patient_2 = {}\n",
        "patient_2['first_name'] = 'Jean'\n",
        "patient_2['last_name'] = 'picard'\n",
        "\n",
        "print(patient_2)"
      ],
      "execution_count": 1,
      "outputs": [
        {
          "output_type": "stream",
          "text": [
            "{'first_name': 'Jean', 'last_name': 'picard'}\n"
          ],
          "name": "stdout"
        }
      ]
    },
    {
      "cell_type": "markdown",
      "metadata": {
        "id": "KfmmVGp8ogsn"
      },
      "source": [
        "1. Use a dictionary to store information about someone you know.  First name last name, age, city, and one other piece of information.  Print each piece of information out."
      ]
    },
    {
      "cell_type": "code",
      "metadata": {
        "colab": {
          "base_uri": "https://localhost:8080/"
        },
        "id": "4mCftXf3petV",
        "outputId": "16f01de6-390f-47d0-9664-f14bcb2147a6"
      },
      "source": [
        "patient_3 = {\n",
        "    'name': 'Luc',\n",
        "    'last_name': 'Kin',\n",
        "    'age': '34',\n",
        "    'city': 'Brooklyn'\n",
        "\n",
        "}\n",
        "print(patient_3)"
      ],
      "execution_count": 4,
      "outputs": [
        {
          "output_type": "stream",
          "text": [
            "{'name': 'Luc', 'last_name': 'Kin', 'age': '34', 'city': 'Brooklyn'}\n"
          ],
          "name": "stdout"
        }
      ]
    },
    {
      "cell_type": "markdown",
      "metadata": {
        "id": "Gmg6tnMCqZ2e"
      },
      "source": [
        "2.Use a dictionary to store 5 people you know and their ages.  Print each persons name and age."
      ]
    },
    {
      "cell_type": "code",
      "metadata": {
        "colab": {
          "base_uri": "https://localhost:8080/"
        },
        "id": "977YraFwqiD0",
        "outputId": "9e44bbcb-afc3-412c-95f0-c4637e1bb0d3"
      },
      "source": [
        "person_1 = {\n",
        "    'name': 'kim',\n",
        "    'age': \"2\"\n",
        "}\n",
        "person_2 = {\n",
        "    'name': 'jim',\n",
        "    'age': '56'\n",
        "}\n",
        "person_3 = {\n",
        "    'name': 'helen',\n",
        "    'age': '34'\n",
        "}\n",
        "person_4 = {\n",
        "    'name': 'feliz',\n",
        "    'age': '12'\n",
        "}\n",
        "person_5 = { \n",
        "    'name': 'malcolm',\n",
        "    'age': '5'\n",
        "}\n",
        "print(person_1, person_2, person_3, person_4, person_5)"
      ],
      "execution_count": 42,
      "outputs": [
        {
          "output_type": "stream",
          "text": [
            "{'name': 'kim', 'age': '2'} {'name': 'jim', 'age': '56'} {'name': 'helen', 'age': '34'} {'name': 'feliz', 'age': '12'} {'name': 'malcolm', 'age': '5'}\n"
          ],
          "name": "stdout"
        }
      ]
    },
    {
      "cell_type": "code",
      "metadata": {
        "colab": {
          "base_uri": "https://localhost:8080/"
        },
        "id": "kAZf5hCq3DWb",
        "outputId": "7e87c10b-c42e-462c-80af-d677a30e3c7a"
      },
      "source": [
        "person_name = person_1['name']\n",
        "print(\"My name is, \" + person_name)"
      ],
      "execution_count": 49,
      "outputs": [
        {
          "output_type": "stream",
          "text": [
            "My name is, kim\n"
          ],
          "name": "stdout"
        }
      ]
    },
    {
      "cell_type": "markdown",
      "metadata": {
        "id": "9lzbIFRFrkCL"
      },
      "source": [
        "3. Create a dictionary storing vocab words we’ve spoken about – store at least 3.  Think of making a “glossary”.  Print each word and its definition, separated by a colon (:). Make the output clean and easy to read"
      ]
    },
    {
      "cell_type": "code",
      "metadata": {
        "id": "pl2m5CgXz8YU"
      },
      "source": [
        ""
      ],
      "execution_count": null,
      "outputs": []
    },
    {
      "cell_type": "code",
      "metadata": {
        "colab": {
          "base_uri": "https://localhost:8080/"
        },
        "id": "cNZ2vMlF2h02",
        "outputId": "04482231-8b80-4926-f6c8-3c030be59976"
      },
      "source": [
        "prompt = \"Input a message. I will repeat it until you type 'quit'\"\n",
        "message = \"\"\n",
        "\n",
        "active = True\n",
        "while active:\n",
        "  message = input(prompt)\n",
        "\n",
        "  if message == 'quit':\n",
        "    active = False\n",
        "\n",
        "  else:\n",
        "    print(message)  "
      ],
      "execution_count": 53,
      "outputs": [
        {
          "output_type": "stream",
          "text": [
            "Input a message. I will repeat it until you type 'quit'huh\n",
            "huh\n",
            "Input a message. I will repeat it until you type 'quit'why\n",
            "why\n",
            "Input a message. I will repeat it until you type 'quit'quit\n"
          ],
          "name": "stdout"
        }
      ]
    },
    {
      "cell_type": "markdown",
      "metadata": {
        "id": "xyB9g8lcHf3M"
      },
      "source": [
        "L7 functions\n"
      ]
    },
    {
      "cell_type": "code",
      "metadata": {
        "id": "uhbwWbktHj16"
      },
      "source": [
        ""
      ],
      "execution_count": null,
      "outputs": []
    }
  ]
}