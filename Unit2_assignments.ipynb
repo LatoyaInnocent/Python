{
  "nbformat": 4,
  "nbformat_minor": 0,
  "metadata": {
    "colab": {
      "name": "Unit2 assignments.ipynb",
      "provenance": [],
      "collapsed_sections": [],
      "authorship_tag": "ABX9TyMjnfJwSeGWB/D+i+mZGwOI",
      "include_colab_link": true
    },
    "kernelspec": {
      "name": "python3",
      "display_name": "Python 3"
    },
    "language_info": {
      "name": "python"
    }
  },
  "cells": [
    {
      "cell_type": "markdown",
      "metadata": {
        "id": "view-in-github",
        "colab_type": "text"
      },
      "source": [
        "<a href=\"https://colab.research.google.com/github/LatoyaInnocent/Python/blob/main/Unit2_assignments.ipynb\" target=\"_parent\"><img src=\"https://colab.research.google.com/assets/colab-badge.svg\" alt=\"Open In Colab\"/></a>"
      ]
    },
    {
      "cell_type": "markdown",
      "metadata": {
        "id": "crdfwkgYxxUJ"
      },
      "source": [
        "U2L2 - Latoya Innocent"
      ]
    },
    {
      "cell_type": "markdown",
      "metadata": {
        "id": "dhEQC3Qsy_8S"
      },
      "source": [
        "1a. what is Python?\n",
        "Python is an interpreted, object-oriented, high-level programming language with dynamic semantics. \n",
        "\n",
        "b. Why is it useful?\n",
        "Pythin is useful because it can work on very large datasets with ease, perform complex operations and a huge time saver coding. "
      ]
    },
    {
      "cell_type": "markdown",
      "metadata": {
        "id": "Nek7OAZy0lnV"
      },
      "source": [
        "2. Are the following variable name allowed in python?\n",
        "a. 1_message - NO \n",
        "b. Greeting messgae -YES\n",
        "c. Message_1 - YES\n",
        "d. First name - NO\n",
        "e. Full_name - YES"
      ]
    },
    {
      "cell_type": "markdown",
      "metadata": {
        "id": "KNuBG5Lo1Myc"
      },
      "source": [
        "3. Create a variable that holds the string \"hello world!\""
      ]
    },
    {
      "cell_type": "code",
      "metadata": {
        "colab": {
          "base_uri": "https://localhost:8080/"
        },
        "id": "RsktKEZm1SZs",
        "outputId": "177e7f58-bd57-417a-a2aa-a696fe5ab712"
      },
      "source": [
        "message = \"hello there!\"\n",
        "print(message)"
      ],
      "execution_count": 5,
      "outputs": [
        {
          "output_type": "stream",
          "text": [
            "hello there!\n"
          ],
          "name": "stdout"
        }
      ]
    },
    {
      "cell_type": "markdown",
      "metadata": {
        "id": "kKt6CE6A1ubr"
      },
      "source": [
        "4. Create a variable for first name, last name and an email extension. Concatenating all three together to form an email address. For example: firstnamelastname@gmail.com"
      ]
    },
    {
      "cell_type": "code",
      "metadata": {
        "colab": {
          "base_uri": "https://localhost:8080/"
        },
        "id": "iKwM_TKk1_Cp",
        "outputId": "e344cbab-c976-46e9-8be4-1bab858c48ec"
      },
      "source": [
        "first_name = \"Tom\"\n",
        "last_name = \"Geller\"\n",
        "full_name = first_name + last_name + \"@gmail.com\"\n",
        "print(full_name)\n"
      ],
      "execution_count": 12,
      "outputs": [
        {
          "output_type": "stream",
          "text": [
            "TomGeller@gmail.com\n"
          ],
          "name": "stdout"
        }
      ]
    },
    {
      "cell_type": "markdown",
      "metadata": {
        "id": "YI2VUWbE4O6n"
      },
      "source": [
        "5. Store someone you know name in a varibale called name. Print their name in lower and uppercase using a method. "
      ]
    },
    {
      "cell_type": "code",
      "metadata": {
        "colab": {
          "base_uri": "https://localhost:8080/"
        },
        "id": "6WrabwRJ4dNL",
        "outputId": "676e9c2a-4af7-4ba4-ce7b-86bd74b034f6"
      },
      "source": [
        "name = \"Allison Hinds\" \n",
        "print(name.upper())\n",
        "print(name.lower())"
      ],
      "execution_count": 14,
      "outputs": [
        {
          "output_type": "stream",
          "text": [
            "ALLISON HINDS\n",
            "allison hinds\n"
          ],
          "name": "stdout"
        }
      ]
    },
    {
      "cell_type": "markdown",
      "metadata": {
        "id": "j7tvI_cq4s4v"
      },
      "source": [
        "6. Using a variable, ask your friend if they want to hang out on the 15th of the month. For example, \"Do you want to hang out on the 15th of this month?\" You should have to convert the number to a string. "
      ]
    },
    {
      "cell_type": "code",
      "metadata": {
        "colab": {
          "base_uri": "https://localhost:8080/"
        },
        "id": "A2atgZUQ5HHS",
        "outputId": "d4b0ecd3-9081-4aa1-c1f4-c9c06a7d221f"
      },
      "source": [
        "date = 15\n",
        "message = \"Do you want to hang out on the \" + str(date) + \"th of this month? \"\n",
        "print(message)"
      ],
      "execution_count": 20,
      "outputs": [
        {
          "output_type": "stream",
          "text": [
            "Do you want to hang out on the 15th of this month? \n"
          ],
          "name": "stdout"
        }
      ]
    },
    {
      "cell_type": "markdown",
      "metadata": {
        "id": "hVPHLR4L6nAN"
      },
      "source": [
        "U2L3 - Latoya Innocent"
      ]
    },
    {
      "cell_type": "markdown",
      "metadata": {
        "id": "qL5NuHvW7B1F"
      },
      "source": [
        "1. Create a list of 5 of your favorite tv shows."
      ]
    },
    {
      "cell_type": "code",
      "metadata": {
        "colab": {
          "base_uri": "https://localhost:8080/"
        },
        "id": "2qBAzIHb78eT",
        "outputId": "17d76528-08be-4822-d320-3c0f26aff550"
      },
      "source": [
        "favorite_tv_shows = ['shanara chronicles', 'oitnb', 'gotham', 'the crown', 'prison break']\n",
        "print(favorite_tv_shows[0])\n",
        "print(favorite_tv_shows[1])\n",
        "print(favorite_tv_shows[2])\n",
        "print(favorite_tv_shows[3])\n",
        "print(favorite_tv_shows[4])"
      ],
      "execution_count": 65,
      "outputs": [
        {
          "output_type": "stream",
          "text": [
            "shanara chronicles\n",
            "oitnb\n",
            "gotham\n",
            "the crown\n",
            "prison break\n"
          ],
          "name": "stdout"
        }
      ]
    },
    {
      "cell_type": "markdown",
      "metadata": {
        "id": "GSHzdojF8tt2"
      },
      "source": [
        "2. Print the list in its original order."
      ]
    },
    {
      "cell_type": "code",
      "metadata": {
        "colab": {
          "base_uri": "https://localhost:8080/"
        },
        "id": "R5ek4Sc780Mg",
        "outputId": "afc12e64-f843-4416-d93c-ca656d13e0e4"
      },
      "source": [
        "print(favorite_tv_shows)"
      ],
      "execution_count": 66,
      "outputs": [
        {
          "output_type": "stream",
          "text": [
            "['shanara chronicles', 'oitnb', 'gotham', 'the crown', 'prison break']\n"
          ],
          "name": "stdout"
        }
      ]
    },
    {
      "cell_type": "markdown",
      "metadata": {
        "id": "vMjRW5k29XOk"
      },
      "source": [
        "3. Use the sorted() function to print the list in alphabethical order. How is sorted() different from sort()?"
      ]
    },
    {
      "cell_type": "code",
      "metadata": {
        "colab": {
          "base_uri": "https://localhost:8080/"
        },
        "id": "8jZ2DJM_9nJi",
        "outputId": "894c81e3-a341-4ea4-94ac-765675e0ac90"
      },
      "source": [
        "favorite_tv_shows = ['shanara chronicles', 'oitnb', 'gotham', 'the crown', 'prison break']\n",
        "sorted_favorite_tv_shows = sorted(tv_shows)\n",
        "print('sorted list', sorted_favorite_tv_shows)\n",
        "\n",
        "tv_shows.sort()\n",
        "print('sort list', favorite_tv_shows)"
      ],
      "execution_count": 50,
      "outputs": [
        {
          "output_type": "stream",
          "text": [
            "sorted list ['gotham', 'oitnb', 'prison', 'shanara chronicles', 'the crown']\n",
            "sort list ['shanara chronicles', 'oitnb', 'gotham', 'the crown', 'prison break']\n"
          ],
          "name": "stdout"
        }
      ]
    },
    {
      "cell_type": "markdown",
      "metadata": {
        "id": "tln9uEawAG0k"
      },
      "source": [
        "4. Print out your original list"
      ]
    },
    {
      "cell_type": "code",
      "metadata": {
        "colab": {
          "base_uri": "https://localhost:8080/"
        },
        "id": "KfOQEorVBOTP",
        "outputId": "c3918014-30df-46a9-a692-f612f4a463b5"
      },
      "source": [
        "print('unsorted list', favorite_tv_shows)"
      ],
      "execution_count": 51,
      "outputs": [
        {
          "output_type": "stream",
          "text": [
            "unsorted list ['shanara chronicles', 'oitnb', 'gotham', 'the crown', 'prison break']\n"
          ],
          "name": "stdout"
        }
      ]
    },
    {
      "cell_type": "markdown",
      "metadata": {
        "id": "xkZ28IbmBzxO"
      },
      "source": [
        "5. Use sorted() to print your list in reverse alphabetical order."
      ]
    },
    {
      "cell_type": "code",
      "metadata": {
        "colab": {
          "base_uri": "https://localhost:8080/"
        },
        "id": "h6p3HZs_B8cq",
        "outputId": "258a1b2d-d859-4440-fa37-82dd4d4bdd1c"
      },
      "source": [
        "print(favorite_tv_shows)\n",
        "favorite_tv_shows.sort(reverse=True)\n",
        "print(favorite_tv_shows)"
      ],
      "execution_count": 52,
      "outputs": [
        {
          "output_type": "stream",
          "text": [
            "['shanara chronicles', 'oitnb', 'gotham', 'the crown', 'prison break']\n",
            "['the crown', 'shanara chronicles', 'prison break', 'oitnb', 'gotham']\n"
          ],
          "name": "stdout"
        }
      ]
    },
    {
      "cell_type": "markdown",
      "metadata": {
        "id": "yvw41dtMB-9k"
      },
      "source": [
        "6. Create a message indicating how many favorite tv shows you have - use the len() function."
      ]
    },
    {
      "cell_type": "code",
      "metadata": {
        "colab": {
          "base_uri": "https://localhost:8080/"
        },
        "id": "5xTH4j1eCGOc",
        "outputId": "09904aa4-e3b2-4940-ce85-43b19875d74b"
      },
      "source": [
        "favorite_tv_shows = ['shanara chronicles', 'oitnb', 'gotham', 'the crown', 'prison break']\n",
        "print(favorite_tv_shows)\n",
        "len(favorite_tv_shows)"
      ],
      "execution_count": 53,
      "outputs": [
        {
          "output_type": "stream",
          "text": [
            "['shanara chronicles', 'oitnb', 'gotham', 'the crown', 'prison break']\n"
          ],
          "name": "stdout"
        },
        {
          "output_type": "execute_result",
          "data": {
            "text/plain": [
              "5"
            ]
          },
          "metadata": {
            "tags": []
          },
          "execution_count": 53
        }
      ]
    },
    {
      "cell_type": "markdown",
      "metadata": {
        "id": "JCSagOvTHvtP"
      },
      "source": [
        "U2L4 - Latoya Innocent"
      ]
    },
    {
      "cell_type": "markdown",
      "metadata": {
        "id": "_pIRhvDhH2sH"
      },
      "source": [
        "1. Create a list that holds 5 data variables."
      ]
    },
    {
      "cell_type": "code",
      "metadata": {
        "colab": {
          "base_uri": "https://localhost:8080/"
        },
        "id": "2I4QxxzYIEWV",
        "outputId": "06c8f5c1-610e-40a3-dd3e-c8fd0b5628b4"
      },
      "source": [
        "vowels = ['e', 'a', 'i', 'u', 'o']\n",
        "print(vowels)"
      ],
      "execution_count": 85,
      "outputs": [
        {
          "output_type": "stream",
          "text": [
            "['e', 'a', 'i', 'u', 'o']\n"
          ],
          "name": "stdout"
        }
      ]
    },
    {
      "cell_type": "markdown",
      "metadata": {
        "id": "HtBmXwVfIE8w"
      },
      "source": [
        "2. Print out those variable by using a for loop."
      ]
    },
    {
      "cell_type": "code",
      "metadata": {
        "colab": {
          "base_uri": "https://localhost:8080/"
        },
        "id": "6pgltQ0gIJER",
        "outputId": "25f1ef0a-6bdc-42dc-e6bc-70c0926591c0"
      },
      "source": [
        "vowels = ['e', 'a', 'i', 'u', 'o']\n",
        "for x in vowels:\n",
        "  print(x)"
      ],
      "execution_count": 86,
      "outputs": [
        {
          "output_type": "stream",
          "text": [
            "e\n",
            "a\n",
            "i\n",
            "u\n",
            "o\n"
          ],
          "name": "stdout"
        }
      ]
    },
    {
      "cell_type": "markdown",
      "metadata": {
        "id": "aVuxUbJFIJvR"
      },
      "source": [
        "3. Modify your for loop to add a message to your for loop."
      ]
    },
    {
      "cell_type": "code",
      "metadata": {
        "colab": {
          "base_uri": "https://localhost:8080/"
        },
        "id": "hT2ruQpeIPU-",
        "outputId": "90d48d47-9b15-439d-994d-c6b5bdf866a7"
      },
      "source": [
        "for x in vowels:\n",
        "  print(x.title() + \", is a vowel.\")"
      ],
      "execution_count": 87,
      "outputs": [
        {
          "output_type": "stream",
          "text": [
            "E, is a vowel.\n",
            "A, is a vowel.\n",
            "I, is a vowel.\n",
            "U, is a vowel.\n",
            "O, is a vowel.\n"
          ],
          "name": "stdout"
        }
      ]
    },
    {
      "cell_type": "markdown",
      "metadata": {
        "id": "0bqfEXtOIP2u"
      },
      "source": [
        "4. Use a for loop to print even numbers from 1-20."
      ]
    },
    {
      "cell_type": "code",
      "metadata": {
        "colab": {
          "base_uri": "https://localhost:8080/"
        },
        "id": "11PaLmNWIUxN",
        "outputId": "55c516be-0918-485d-f449-1469b236d733"
      },
      "source": [
        "#even numbers\n",
        "for num in range (2, 21, 2):\n",
        "  print(num)\n"
      ],
      "execution_count": 88,
      "outputs": [
        {
          "output_type": "stream",
          "text": [
            "2\n",
            "4\n",
            "6\n",
            "8\n",
            "10\n",
            "12\n",
            "14\n",
            "16\n",
            "18\n",
            "20\n"
          ],
          "name": "stdout"
        }
      ]
    },
    {
      "cell_type": "markdown",
      "metadata": {
        "id": "stgUGIoKIVG8"
      },
      "source": [
        "5. Sort your list in alphabetical order."
      ]
    },
    {
      "cell_type": "code",
      "metadata": {
        "colab": {
          "base_uri": "https://localhost:8080/"
        },
        "id": "99dDqL4DIYRe",
        "outputId": "e2ab47c5-8ab2-42d7-d3b3-b8d50a5919f2"
      },
      "source": [
        "sorted_vowels = sorted(vowels)\n",
        "print('sorted', sorted_vowels)"
      ],
      "execution_count": 91,
      "outputs": [
        {
          "output_type": "stream",
          "text": [
            "sorted ['a', 'e', 'i', 'o', 'u']\n"
          ],
          "name": "stdout"
        }
      ]
    },
    {
      "cell_type": "markdown",
      "metadata": {
        "id": "0oiOWKrsIY2j"
      },
      "source": [
        "6. Print out the first three elements of your list."
      ]
    },
    {
      "cell_type": "code",
      "metadata": {
        "colab": {
          "base_uri": "https://localhost:8080/"
        },
        "id": "4URbv-dRIcs8",
        "outputId": "f675726f-27ff-4c3f-9f52-5f42ebbfee16"
      },
      "source": [
        "print(vowels[0:3])"
      ],
      "execution_count": 92,
      "outputs": [
        {
          "output_type": "stream",
          "text": [
            "['e', 'a', 'i']\n"
          ],
          "name": "stdout"
        }
      ]
    },
    {
      "cell_type": "markdown",
      "metadata": {
        "id": "eBXryCSwOTk1"
      },
      "source": [
        "7. Create a loop to print the last 2 elements of your list."
      ]
    },
    {
      "cell_type": "code",
      "metadata": {
        "colab": {
          "base_uri": "https://localhost:8080/"
        },
        "id": "8IJKcdsaObFB",
        "outputId": "1d757860-4974-45d9-819c-2227fc05621b"
      },
      "source": [
        "print(vowels[3:5])"
      ],
      "execution_count": 95,
      "outputs": [
        {
          "output_type": "stream",
          "text": [
            "['u', 'o']\n"
          ],
          "name": "stdout"
        }
      ]
    },
    {
      "cell_type": "markdown",
      "metadata": {
        "id": "KB-Eyf4qPBBn"
      },
      "source": [
        "U2L5 - Latoya Innocent"
      ]
    },
    {
      "cell_type": "markdown",
      "metadata": {
        "id": "0pCr3fg7PkMu"
      },
      "source": [
        "1. Make a list of 5 or more usernames, including an admin account. Imagine you are writing code that will welcome people to your application on login. Loop through the list and print your greeting. \n",
        "a. If the admin account logs in, give them a special greeting. They're the admin, after all!\n",
        "b. Other users can get the generic greeting."
      ]
    },
    {
      "cell_type": "code",
      "metadata": {
        "colab": {
          "base_uri": "https://localhost:8080/"
        },
        "id": "ySD-EDRXQG10",
        "outputId": "63778535-6840-49fb-d32d-f8f7b1a34dfb"
      },
      "source": [
        "usernames = ['admin', 'ljaipersaud' 'gsmith', 'glall', 'klim', 'hjackson']\n",
        "for username in usernames:\n",
        "  if username == 'admin':\n",
        "    print(\"Hello admin, Welcome back boss! Ready to get started with your report?\")\n",
        "  else:\n",
        "    print(\"Hello \" + username + \", thank you for logging in again!\")  \n",
        "\n",
        "  \n",
        "  \n",
        "    \n"
      ],
      "execution_count": 22,
      "outputs": [
        {
          "output_type": "stream",
          "text": [
            "Hello admin, Welcome back boss! Ready to get started with your report?\n",
            "Hello ljaipersaudgsmith, thank you for logging in again!\n",
            "Hello glall, thank you for logging in again!\n",
            "Hello klim, thank you for logging in again!\n",
            "Hello hjackson, thank you for logging in again!\n"
          ],
          "name": "stdout"
        }
      ]
    },
    {
      "cell_type": "markdown",
      "metadata": {
        "id": "_L3D6VyeXmTV"
      },
      "source": [
        "Store numbers 1-10 in a list\n",
        "a. Loop through the list\n",
        "b. Use an if-elif- else chain inside your loop to print to print the ordinal ending for each number. for example - 1st, 2nd, 3rd...etc"
      ]
    },
    {
      "cell_type": "code",
      "metadata": {
        "colab": {
          "base_uri": "https://localhost:8080/"
        },
        "id": "GPis4cR-E1k8",
        "outputId": "fbc61bc8-0de3-4fa7-bf4a-df5cff29e99f"
      },
      "source": [
        "numbers = list(range(1,10))\n",
        "\n",
        "for number in numbers:\n",
        "  if number == 1:\n",
        "    print(\"1st\")\n",
        "  elif number == 2:\n",
        "    print(\"2nd\")\n",
        "  elif number == 3:\n",
        "    print(\"3rd\")\n",
        "  else:\n",
        "    print(str(number) + \"th\")      "
      ],
      "execution_count": 23,
      "outputs": [
        {
          "output_type": "stream",
          "text": [
            "1st\n",
            "2nd\n",
            "3rd\n",
            "4th\n",
            "5th\n",
            "6th\n",
            "7th\n",
            "8th\n",
            "9th\n"
          ],
          "name": "stdout"
        }
      ]
    },
    {
      "cell_type": "markdown",
      "metadata": {
        "id": "9H7ND2XiGYz3"
      },
      "source": [
        "U2L6 - Latoya Innocent"
      ]
    },
    {
      "cell_type": "markdown",
      "metadata": {
        "id": "Pe832LVuGdEk"
      },
      "source": [
        "1. Create a simple dictionary that stores 2 variables, for example: first and last name."
      ]
    },
    {
      "cell_type": "code",
      "metadata": {
        "id": "zsBqhYHIGkGe"
      },
      "source": [
        "plaintiff = {'first_name': 'Larry', 'last_name': 'Harris'}"
      ],
      "execution_count": 25,
      "outputs": []
    },
    {
      "cell_type": "markdown",
      "metadata": {
        "id": "Cc2LeCVmGmYA"
      },
      "source": [
        "2. Print out those variables stored in your previous dictionary."
      ]
    },
    {
      "cell_type": "code",
      "metadata": {
        "colab": {
          "base_uri": "https://localhost:8080/"
        },
        "id": "OzG1lv5lIajK",
        "outputId": "dc35fe08-1121-42c0-f6fe-5f4cac9ce490"
      },
      "source": [
        "plaintiff = {'first_name': 'Larry', 'last_name': 'Harris'}\n",
        "print(plaintiff['first_name'])\n",
        "print(plaintiff['last_name'])"
      ],
      "execution_count": 26,
      "outputs": [
        {
          "output_type": "stream",
          "text": [
            "Larry\n",
            "Harris\n"
          ],
          "name": "stdout"
        }
      ]
    },
    {
      "cell_type": "markdown",
      "metadata": {
        "id": "TQLT0gqOGr4r"
      },
      "source": [
        "3. Add a message to those variables on printing: for example: \"Hello, firstname lastname!\""
      ]
    },
    {
      "cell_type": "code",
      "metadata": {
        "colab": {
          "base_uri": "https://localhost:8080/"
        },
        "id": "ZGn3N4NuImeU",
        "outputId": "1903f785-67d3-4f81-f744-0e6922bed4c1"
      },
      "source": [
        "plaintiff_name = plaintiff['first_name'] \n",
        "print(\"Hello, \" + plaintiff_name + \" are you ready for court?\")"
      ],
      "execution_count": 53,
      "outputs": [
        {
          "output_type": "stream",
          "text": [
            "Hello, Larry are you ready for court?\n"
          ],
          "name": "stdout"
        }
      ]
    },
    {
      "cell_type": "markdown",
      "metadata": {
        "id": "AMCcL5gQG2eB"
      },
      "source": [
        "4. Create a dictionary that holds 2 key: value pairs:\n",
        "a. Look through your dictionary and print each pair,"
      ]
    },
    {
      "cell_type": "code",
      "metadata": {
        "colab": {
          "base_uri": "https://localhost:8080/"
        },
        "id": "5iA7Ysn-HCdk",
        "outputId": "8cf9b523-f72a-4acb-e5d8-857c38e9c549"
      },
      "source": [
        "plaintiff = {\n",
        "    'first_name': 'Larry',\n",
        "    'last_name': 'Harris',\n",
        "    'age': 45,\n",
        "    'plaintiff_number': '0076e5536'\n",
        "\n",
        "}\n",
        "print(plaintiff['first_name'])\n",
        "print(plaintiff['last_name'])\n",
        "print(plaintiff['age'])\n",
        "print(plaintiff['plaintiff_number'])"
      ],
      "execution_count": 52,
      "outputs": [
        {
          "output_type": "stream",
          "text": [
            "Larry\n",
            "Harris\n",
            "45\n",
            "0076e5536\n"
          ],
          "name": "stdout"
        }
      ]
    },
    {
      "cell_type": "markdown",
      "metadata": {
        "id": "jsCjBj-tHC2h"
      },
      "source": [
        "5. Create a nested dictionary containing three dictionaries - these dictionaries could be anything (favorite pets, travel locations, etc.)\n",
        "a. Loop through the dictionaries and print a message for each."
      ]
    },
    {
      "cell_type": "code",
      "metadata": {
        "colab": {
          "base_uri": "https://localhost:8080/"
        },
        "id": "W1wn4jFiHR55",
        "outputId": "12495143-c9a3-44cd-a291-0c258b143830"
      },
      "source": [
        "#Nested dictionary\n",
        "favorite_places = {\n",
        "    'summer': ['bahamas', 'hawaii', 'turks&caicos'],\n",
        "    'winter': ['greenland', 'alaska'],\n",
        "    'spring': ['new york', 'utah', 'ohio']\n",
        "}\n",
        "\n",
        "for name, places in favorite_places.items():\n",
        "  print(name.title() + \" is the best time to visit these locations:\")\n",
        "  for place in places:\n",
        "    print(\"- \" + place.title())"
      ],
      "execution_count": 117,
      "outputs": [
        {
          "output_type": "stream",
          "text": [
            "Summer is the best time to visit these locations:\n",
            "- Bahamas\n",
            "- Hawaii\n",
            "- Turks&Caicos\n",
            "Winter is the best time to visit these locations:\n",
            "- Greenland\n",
            "- Alaska\n",
            "Spring is the best time to visit these locations:\n",
            "- New York\n",
            "- Utah\n",
            "- Ohio\n"
          ],
          "name": "stdout"
        }
      ]
    }
  ]
}