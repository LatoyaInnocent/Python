{
  "nbformat": 4,
  "nbformat_minor": 0,
  "metadata": {
    "colab": {
      "name": "Assignment U3L1.ipynb",
      "provenance": [],
      "collapsed_sections": [],
      "authorship_tag": "ABX9TyPbW2nPpOkWxGAlyeLrIZIe",
      "include_colab_link": true
    },
    "kernelspec": {
      "name": "python3",
      "display_name": "Python 3"
    },
    "language_info": {
      "name": "python"
    }
  },
  "cells": [
    {
      "cell_type": "markdown",
      "metadata": {
        "id": "view-in-github",
        "colab_type": "text"
      },
      "source": [
        "<a href=\"https://colab.research.google.com/github/LatoyaInnocent/Python/blob/main/Assignment_U3L1.ipynb\" target=\"_parent\"><img src=\"https://colab.research.google.com/assets/colab-badge.svg\" alt=\"Open In Colab\"/></a>"
      ]
    },
    {
      "cell_type": "markdown",
      "metadata": {
        "id": "yPI2UuaL9zZO"
      },
      "source": [
        "Find maximum value & its index in a 1D Numpy Array:\n",
        "arr = numpy.array([11, 12, 13, 14, 15, 16, 17, 15, 11, 12, 14, 15, 16, 17])"
      ]
    },
    {
      "cell_type": "code",
      "metadata": {
        "colab": {
          "base_uri": "https://localhost:8080/"
        },
        "id": "UR6NrUG595L4",
        "outputId": "7226d974-cd1f-4c9d-bf6c-621cf14d08dc"
      },
      "source": [
        "import numpy as np\n",
        "num = np.array([11, 2, 13, 6, 15, 16, 7, 15, 9, 12, 14, 15, 16, 1])\n",
        "print(np.max(num))\n"
      ],
      "execution_count": 10,
      "outputs": [
        {
          "output_type": "stream",
          "text": [
            "16\n"
          ],
          "name": "stdout"
        }
      ]
    },
    {
      "cell_type": "code",
      "metadata": {
        "colab": {
          "base_uri": "https://localhost:8080/"
        },
        "id": "bAlHssz73oGE",
        "outputId": "1baf7cec-2c67-493c-b93b-86f39facb128"
      },
      "source": [
        "import numpy as np\n",
        "num = np.array([11, 2, 13, 6, 15, 16, 7, 15, 9, 12, 14, 15, 16, 1])\n",
        "print(num)\n",
        "result = np.where(num == np.max(num))\n",
        "print('return max value' ,np.max(num))\n",
        "print('returned tuple of arrays :' , result)\n",
        "print('List of indices of maximum element :', result[0])"
      ],
      "execution_count": 3,
      "outputs": [
        {
          "output_type": "stream",
          "text": [
            "[11  2 13  6 15 16  7 15  9 12 14 15 16  1]\n",
            "return max value 16\n",
            "returned tuple of arrays : (array([ 5, 12]),)\n",
            "List of indices of maximum element : [ 5 12]\n"
          ],
          "name": "stdout"
        }
      ]
    }
  ]
}