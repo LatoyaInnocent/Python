{
  "nbformat": 4,
  "nbformat_minor": 0,
  "metadata": {
    "colab": {
      "name": "AssignmentU3L2.ipynb",
      "provenance": [],
      "collapsed_sections": [],
      "authorship_tag": "ABX9TyMOzWDjUGHrQ2Cd+1eOD+re",
      "include_colab_link": true
    },
    "kernelspec": {
      "name": "python3",
      "display_name": "Python 3"
    },
    "language_info": {
      "name": "python"
    }
  },
  "cells": [
    {
      "cell_type": "markdown",
      "metadata": {
        "id": "view-in-github",
        "colab_type": "text"
      },
      "source": [
        "<a href=\"https://colab.research.google.com/github/LatoyaInnocent/Python/blob/main/AssignmentU3L2.ipynb\" target=\"_parent\"><img src=\"https://colab.research.google.com/assets/colab-badge.svg\" alt=\"Open In Colab\"/></a>"
      ]
    },
    {
      "cell_type": "code",
      "metadata": {
        "id": "y7QMfmDZ_ff5"
      },
      "source": [
        "import pandas as pd"
      ],
      "execution_count": 9,
      "outputs": []
    },
    {
      "cell_type": "code",
      "metadata": {
        "colab": {
          "base_uri": "https://localhost:8080/"
        },
        "id": "SrhmRBtXLsxJ",
        "outputId": "79093a7d-f7d3-4c1e-d895-06ea6002a84a"
      },
      "source": [
        "type(df)"
      ],
      "execution_count": 20,
      "outputs": [
        {
          "output_type": "execute_result",
          "data": {
            "text/plain": [
              "pandas.core.frame.DataFrame"
            ]
          },
          "metadata": {
            "tags": []
          },
          "execution_count": 20
        }
      ]
    },
    {
      "cell_type": "code",
      "metadata": {
        "colab": {
          "base_uri": "https://localhost:8080/"
        },
        "id": "JHJWGPn7LwRE",
        "outputId": "a551078c-7ea3-48ea-9f1e-388be995fdf4"
      },
      "source": [
        "df.shape"
      ],
      "execution_count": 21,
      "outputs": [
        {
          "output_type": "execute_result",
          "data": {
            "text/plain": [
              "(397, 7)"
            ]
          },
          "metadata": {
            "tags": []
          },
          "execution_count": 21
        }
      ]
    },
    {
      "cell_type": "code",
      "metadata": {
        "colab": {
          "base_uri": "https://localhost:8080/"
        },
        "id": "CeiXg33VrgIH",
        "outputId": "fa3a4313-cfb6-4a0b-a436-19f91498c32d"
      },
      "source": [
        "print(df)"
      ],
      "execution_count": 12,
      "outputs": [
        {
          "output_type": "stream",
          "text": [
            "     Unnamed: 0      rank discipline  yrs.since.phd  yrs.service   sex  salary\n",
            "0             1      Prof          B             19           18  Male  139750\n",
            "1             2      Prof          B             20           16  Male  173200\n",
            "2             3  AsstProf          B              4            3  Male   79750\n",
            "3             4      Prof          B             45           39  Male  115000\n",
            "4             5      Prof          B             40           41  Male  141500\n",
            "..          ...       ...        ...            ...          ...   ...     ...\n",
            "392         393      Prof          A             33           30  Male  103106\n",
            "393         394      Prof          A             31           19  Male  150564\n",
            "394         395      Prof          A             42           25  Male  101738\n",
            "395         396      Prof          A             25           15  Male   95329\n",
            "396         397  AsstProf          A              8            4  Male   81035\n",
            "\n",
            "[397 rows x 7 columns]\n"
          ],
          "name": "stdout"
        }
      ]
    },
    {
      "cell_type": "code",
      "metadata": {
        "colab": {
          "base_uri": "https://localhost:8080/"
        },
        "id": "WjQK8nycqpe1",
        "outputId": "ff95194d-f4e1-4707-ba53-2727202f1dba"
      },
      "source": [
        "df.columns"
      ],
      "execution_count": 11,
      "outputs": [
        {
          "output_type": "execute_result",
          "data": {
            "text/plain": [
              "Index(['Unnamed: 0', 'rank', 'discipline', 'yrs.since.phd', 'yrs.service',\n",
              "       'sex', 'salary'],\n",
              "      dtype='object')"
            ]
          },
          "metadata": {
            "tags": []
          },
          "execution_count": 11
        }
      ]
    },
    {
      "cell_type": "code",
      "metadata": {
        "id": "HuYaE27VrVuO"
      },
      "source": [
        "import pandas as pd\n",
        "import numpy as np\n",
        "import matplotlib.pyplot as plt\n",
        "%matplotlib inline\n",
        "df = pd.read_csv('https://raw.githubusercontent.com/CunyLaguardiaDataAnalytics/datasets/master/Salaries.csv')"
      ],
      "execution_count": 10,
      "outputs": []
    },
    {
      "cell_type": "code",
      "metadata": {
        "colab": {
          "base_uri": "https://localhost:8080/",
          "height": 204
        },
        "id": "Uo-9kwAnL83U",
        "outputId": "0f825446-0561-4178-bc8d-fcf5161e8ed9"
      },
      "source": [
        "df.tail()"
      ],
      "execution_count": 11,
      "outputs": [
        {
          "output_type": "execute_result",
          "data": {
            "text/html": [
              "<div>\n",
              "<style scoped>\n",
              "    .dataframe tbody tr th:only-of-type {\n",
              "        vertical-align: middle;\n",
              "    }\n",
              "\n",
              "    .dataframe tbody tr th {\n",
              "        vertical-align: top;\n",
              "    }\n",
              "\n",
              "    .dataframe thead th {\n",
              "        text-align: right;\n",
              "    }\n",
              "</style>\n",
              "<table border=\"1\" class=\"dataframe\">\n",
              "  <thead>\n",
              "    <tr style=\"text-align: right;\">\n",
              "      <th></th>\n",
              "      <th>Unnamed: 0</th>\n",
              "      <th>rank</th>\n",
              "      <th>discipline</th>\n",
              "      <th>yrs.since.phd</th>\n",
              "      <th>yrs.service</th>\n",
              "      <th>sex</th>\n",
              "      <th>salary</th>\n",
              "    </tr>\n",
              "  </thead>\n",
              "  <tbody>\n",
              "    <tr>\n",
              "      <th>392</th>\n",
              "      <td>393</td>\n",
              "      <td>Prof</td>\n",
              "      <td>A</td>\n",
              "      <td>33</td>\n",
              "      <td>30</td>\n",
              "      <td>Male</td>\n",
              "      <td>103106</td>\n",
              "    </tr>\n",
              "    <tr>\n",
              "      <th>393</th>\n",
              "      <td>394</td>\n",
              "      <td>Prof</td>\n",
              "      <td>A</td>\n",
              "      <td>31</td>\n",
              "      <td>19</td>\n",
              "      <td>Male</td>\n",
              "      <td>150564</td>\n",
              "    </tr>\n",
              "    <tr>\n",
              "      <th>394</th>\n",
              "      <td>395</td>\n",
              "      <td>Prof</td>\n",
              "      <td>A</td>\n",
              "      <td>42</td>\n",
              "      <td>25</td>\n",
              "      <td>Male</td>\n",
              "      <td>101738</td>\n",
              "    </tr>\n",
              "    <tr>\n",
              "      <th>395</th>\n",
              "      <td>396</td>\n",
              "      <td>Prof</td>\n",
              "      <td>A</td>\n",
              "      <td>25</td>\n",
              "      <td>15</td>\n",
              "      <td>Male</td>\n",
              "      <td>95329</td>\n",
              "    </tr>\n",
              "    <tr>\n",
              "      <th>396</th>\n",
              "      <td>397</td>\n",
              "      <td>AsstProf</td>\n",
              "      <td>A</td>\n",
              "      <td>8</td>\n",
              "      <td>4</td>\n",
              "      <td>Male</td>\n",
              "      <td>81035</td>\n",
              "    </tr>\n",
              "  </tbody>\n",
              "</table>\n",
              "</div>"
            ],
            "text/plain": [
              "     Unnamed: 0      rank discipline  yrs.since.phd  yrs.service   sex  salary\n",
              "392         393      Prof          A             33           30  Male  103106\n",
              "393         394      Prof          A             31           19  Male  150564\n",
              "394         395      Prof          A             42           25  Male  101738\n",
              "395         396      Prof          A             25           15  Male   95329\n",
              "396         397  AsstProf          A              8            4  Male   81035"
            ]
          },
          "metadata": {
            "tags": []
          },
          "execution_count": 11
        }
      ]
    },
    {
      "cell_type": "code",
      "metadata": {
        "colab": {
          "base_uri": "https://localhost:8080/"
        },
        "id": "Q7ggdpoC-BTG",
        "outputId": "00384483-75fc-4ba4-df7e-6586fc0cebd0"
      },
      "source": [
        "df.count()"
      ],
      "execution_count": 12,
      "outputs": [
        {
          "output_type": "execute_result",
          "data": {
            "text/plain": [
              "Unnamed: 0       397\n",
              "rank             397\n",
              "discipline       397\n",
              "yrs.since.phd    397\n",
              "yrs.service      397\n",
              "sex              397\n",
              "salary           397\n",
              "dtype: int64"
            ]
          },
          "metadata": {
            "tags": []
          },
          "execution_count": 12
        }
      ]
    },
    {
      "cell_type": "code",
      "metadata": {
        "colab": {
          "base_uri": "https://localhost:8080/",
          "height": 297
        },
        "id": "YNfl88XFMGSi",
        "outputId": "50c31fc2-cb7b-42e7-96ef-2d0da3f197cf"
      },
      "source": [
        "df.describe()"
      ],
      "execution_count": 13,
      "outputs": [
        {
          "output_type": "execute_result",
          "data": {
            "text/html": [
              "<div>\n",
              "<style scoped>\n",
              "    .dataframe tbody tr th:only-of-type {\n",
              "        vertical-align: middle;\n",
              "    }\n",
              "\n",
              "    .dataframe tbody tr th {\n",
              "        vertical-align: top;\n",
              "    }\n",
              "\n",
              "    .dataframe thead th {\n",
              "        text-align: right;\n",
              "    }\n",
              "</style>\n",
              "<table border=\"1\" class=\"dataframe\">\n",
              "  <thead>\n",
              "    <tr style=\"text-align: right;\">\n",
              "      <th></th>\n",
              "      <th>Unnamed: 0</th>\n",
              "      <th>yrs.since.phd</th>\n",
              "      <th>yrs.service</th>\n",
              "      <th>salary</th>\n",
              "    </tr>\n",
              "  </thead>\n",
              "  <tbody>\n",
              "    <tr>\n",
              "      <th>count</th>\n",
              "      <td>397.000000</td>\n",
              "      <td>397.000000</td>\n",
              "      <td>397.000000</td>\n",
              "      <td>397.000000</td>\n",
              "    </tr>\n",
              "    <tr>\n",
              "      <th>mean</th>\n",
              "      <td>199.000000</td>\n",
              "      <td>22.314861</td>\n",
              "      <td>17.614610</td>\n",
              "      <td>113706.458438</td>\n",
              "    </tr>\n",
              "    <tr>\n",
              "      <th>std</th>\n",
              "      <td>114.748275</td>\n",
              "      <td>12.887003</td>\n",
              "      <td>13.006024</td>\n",
              "      <td>30289.038695</td>\n",
              "    </tr>\n",
              "    <tr>\n",
              "      <th>min</th>\n",
              "      <td>1.000000</td>\n",
              "      <td>1.000000</td>\n",
              "      <td>0.000000</td>\n",
              "      <td>57800.000000</td>\n",
              "    </tr>\n",
              "    <tr>\n",
              "      <th>25%</th>\n",
              "      <td>100.000000</td>\n",
              "      <td>12.000000</td>\n",
              "      <td>7.000000</td>\n",
              "      <td>91000.000000</td>\n",
              "    </tr>\n",
              "    <tr>\n",
              "      <th>50%</th>\n",
              "      <td>199.000000</td>\n",
              "      <td>21.000000</td>\n",
              "      <td>16.000000</td>\n",
              "      <td>107300.000000</td>\n",
              "    </tr>\n",
              "    <tr>\n",
              "      <th>75%</th>\n",
              "      <td>298.000000</td>\n",
              "      <td>32.000000</td>\n",
              "      <td>27.000000</td>\n",
              "      <td>134185.000000</td>\n",
              "    </tr>\n",
              "    <tr>\n",
              "      <th>max</th>\n",
              "      <td>397.000000</td>\n",
              "      <td>56.000000</td>\n",
              "      <td>60.000000</td>\n",
              "      <td>231545.000000</td>\n",
              "    </tr>\n",
              "  </tbody>\n",
              "</table>\n",
              "</div>"
            ],
            "text/plain": [
              "       Unnamed: 0  yrs.since.phd  yrs.service         salary\n",
              "count  397.000000     397.000000   397.000000     397.000000\n",
              "mean   199.000000      22.314861    17.614610  113706.458438\n",
              "std    114.748275      12.887003    13.006024   30289.038695\n",
              "min      1.000000       1.000000     0.000000   57800.000000\n",
              "25%    100.000000      12.000000     7.000000   91000.000000\n",
              "50%    199.000000      21.000000    16.000000  107300.000000\n",
              "75%    298.000000      32.000000    27.000000  134185.000000\n",
              "max    397.000000      56.000000    60.000000  231545.000000"
            ]
          },
          "metadata": {
            "tags": []
          },
          "execution_count": 13
        }
      ]
    },
    {
      "cell_type": "code",
      "metadata": {
        "colab": {
          "base_uri": "https://localhost:8080/"
        },
        "id": "QNxuOlX1MJvT",
        "outputId": "45194bf2-3859-4cd3-d486-9a535dd31bbb"
      },
      "source": [
        "df.max()"
      ],
      "execution_count": 14,
      "outputs": [
        {
          "output_type": "execute_result",
          "data": {
            "text/plain": [
              "Unnamed: 0          397\n",
              "rank               Prof\n",
              "discipline            B\n",
              "yrs.since.phd        56\n",
              "yrs.service          60\n",
              "sex                Male\n",
              "salary           231545\n",
              "dtype: object"
            ]
          },
          "metadata": {
            "tags": []
          },
          "execution_count": 14
        }
      ]
    },
    {
      "cell_type": "code",
      "metadata": {
        "colab": {
          "base_uri": "https://localhost:8080/"
        },
        "id": "UPLia30OMgry",
        "outputId": "48c01536-216e-44e0-e686-eed280998e01"
      },
      "source": [
        "df.min()"
      ],
      "execution_count": 15,
      "outputs": [
        {
          "output_type": "execute_result",
          "data": {
            "text/plain": [
              "Unnamed: 0               1\n",
              "rank             AssocProf\n",
              "discipline               A\n",
              "yrs.since.phd            1\n",
              "yrs.service              0\n",
              "sex                 Female\n",
              "salary               57800\n",
              "dtype: object"
            ]
          },
          "metadata": {
            "tags": []
          },
          "execution_count": 15
        }
      ]
    },
    {
      "cell_type": "code",
      "metadata": {
        "colab": {
          "base_uri": "https://localhost:8080/"
        },
        "id": "i0HPCCCMMjF-",
        "outputId": "3ef7b375-dfe0-4ef7-bc70-7471808aa657"
      },
      "source": [
        "df.median()"
      ],
      "execution_count": 16,
      "outputs": [
        {
          "output_type": "execute_result",
          "data": {
            "text/plain": [
              "Unnamed: 0          199.0\n",
              "yrs.since.phd        21.0\n",
              "yrs.service          16.0\n",
              "salary           107300.0\n",
              "dtype: float64"
            ]
          },
          "metadata": {
            "tags": []
          },
          "execution_count": 16
        }
      ]
    },
    {
      "cell_type": "code",
      "metadata": {
        "colab": {
          "base_uri": "https://localhost:8080/"
        },
        "id": "y29_1qh_MmqM",
        "outputId": "c85e3be7-9d4e-494a-b29d-1971e19c2c4b"
      },
      "source": [
        "df.mean()"
      ],
      "execution_count": 17,
      "outputs": [
        {
          "output_type": "execute_result",
          "data": {
            "text/plain": [
              "Unnamed: 0          199.000000\n",
              "yrs.since.phd        22.314861\n",
              "yrs.service          17.614610\n",
              "salary           113706.458438\n",
              "dtype: float64"
            ]
          },
          "metadata": {
            "tags": []
          },
          "execution_count": 17
        }
      ]
    },
    {
      "cell_type": "code",
      "metadata": {
        "colab": {
          "base_uri": "https://localhost:8080/"
        },
        "id": "aVEHqUKj9hmA",
        "outputId": "fc8831d5-6557-4588-a1ad-835b48fddc3d"
      },
      "source": [
        "#median salary between gender and/or rank(title)\n",
        "df.median = df[['sex', 'salary']]\n",
        "print(df.median)"
      ],
      "execution_count": 25,
      "outputs": [
        {
          "output_type": "stream",
          "text": [
            "      sex  salary\n",
            "0    Male  139750\n",
            "1    Male  173200\n",
            "2    Male   79750\n",
            "3    Male  115000\n",
            "4    Male  141500\n",
            "..    ...     ...\n",
            "392  Male  103106\n",
            "393  Male  150564\n",
            "394  Male  101738\n",
            "395  Male   95329\n",
            "396  Male   81035\n",
            "\n",
            "[397 rows x 2 columns]\n"
          ],
          "name": "stdout"
        }
      ]
    },
    {
      "cell_type": "code",
      "metadata": {
        "colab": {
          "base_uri": "https://localhost:8080/"
        },
        "id": "QV6dMflgNJzq",
        "outputId": "31a321e4-b094-4a4a-a856-36047638b4fe"
      },
      "source": [
        "df[['salary','yrs.service']]\n",
        "new_df = df['salary'] + df['yrs.service']\n",
        "print(df)"
      ],
      "execution_count": 31,
      "outputs": [
        {
          "output_type": "stream",
          "text": [
            "     Unnamed: 0      rank discipline  ...   sex  salary     new\n",
            "0             1      Prof          B  ...  Male  139750  139768\n",
            "1             2      Prof          B  ...  Male  173200  173216\n",
            "2             3  AsstProf          B  ...  Male   79750   79753\n",
            "3             4      Prof          B  ...  Male  115000  115039\n",
            "4             5      Prof          B  ...  Male  141500  141541\n",
            "..          ...       ...        ...  ...   ...     ...     ...\n",
            "392         393      Prof          A  ...  Male  103106  103136\n",
            "393         394      Prof          A  ...  Male  150564  150583\n",
            "394         395      Prof          A  ...  Male  101738  101763\n",
            "395         396      Prof          A  ...  Male   95329   95344\n",
            "396         397  AsstProf          A  ...  Male   81035   81039\n",
            "\n",
            "[397 rows x 8 columns]\n"
          ],
          "name": "stdout"
        }
      ]
    },
    {
      "cell_type": "code",
      "metadata": {
        "colab": {
          "base_uri": "https://localhost:8080/"
        },
        "id": "7X2gQgf1qsUU",
        "outputId": "f3a28caa-a57a-4d4e-bcd9-fc1f043425ad"
      },
      "source": [
        "male_df = df[(df['sex'] == 'Male')]\n",
        "male_df['salary'].median()"
      ],
      "execution_count": 40,
      "outputs": [
        {
          "output_type": "execute_result",
          "data": {
            "text/plain": [
              "108043.0"
            ]
          },
          "metadata": {
            "tags": []
          },
          "execution_count": 40
        }
      ]
    },
    {
      "cell_type": "code",
      "metadata": {
        "colab": {
          "base_uri": "https://localhost:8080/"
        },
        "id": "yxPPwd9ksT2H",
        "outputId": "3c6f85d7-4c53-4290-8e83-8d0eb4fbb806"
      },
      "source": [
        "female_df = df[(df['sex'] == 'Female')]\n",
        "female_df['salary'].median()"
      ],
      "execution_count": 41,
      "outputs": [
        {
          "output_type": "execute_result",
          "data": {
            "text/plain": [
              "103750.0"
            ]
          },
          "metadata": {
            "tags": []
          },
          "execution_count": 41
        }
      ]
    },
    {
      "cell_type": "code",
      "metadata": {
        "colab": {
          "base_uri": "https://localhost:8080/"
        },
        "id": "ewcJdB0rsnmr",
        "outputId": "d3b1661b-fdb6-48a6-d52e-d86b9b56a041"
      },
      "source": [
        "male_df.mean() - female_df.mean()\n",
        "#difference between the mean salaries is $14,088"
      ],
      "execution_count": 43,
      "outputs": [
        {
          "output_type": "execute_result",
          "data": {
            "text/plain": [
              "Unnamed: 0          31.050279\n",
              "yrs.since.phd        6.434107\n",
              "yrs.service          6.709640\n",
              "salary           14088.008738\n",
              "new              14094.718378\n",
              "dtype: float64"
            ]
          },
          "metadata": {
            "tags": []
          },
          "execution_count": 43
        }
      ]
    },
    {
      "cell_type": "code",
      "metadata": {
        "colab": {
          "base_uri": "https://localhost:8080/"
        },
        "id": "dYY8428tstZE",
        "outputId": "87bc2827-dac4-4800-a9c1-caac8aaafd50"
      },
      "source": [
        "experience_salary = df[['yrs.service', 'salary']]\n",
        "print(experience_salary)"
      ],
      "execution_count": 45,
      "outputs": [
        {
          "output_type": "stream",
          "text": [
            "     yrs.service  salary\n",
            "0             18  139750\n",
            "1             16  173200\n",
            "2              3   79750\n",
            "3             39  115000\n",
            "4             41  141500\n",
            "..           ...     ...\n",
            "392           30  103106\n",
            "393           19  150564\n",
            "394           25  101738\n",
            "395           15   95329\n",
            "396            4   81035\n",
            "\n",
            "[397 rows x 2 columns]\n"
          ],
          "name": "stdout"
        }
      ]
    },
    {
      "cell_type": "code",
      "metadata": {
        "colab": {
          "base_uri": "https://localhost:8080/"
        },
        "id": "e0kLNHWhtWGv",
        "outputId": "8b96ffce-f861-4d4b-b8f1-bb466dd103d3"
      },
      "source": [
        "experience_20years = experience_salary[experience_salary['yrs.service']>=20]\n",
        "print(experience_20years.count())"
      ],
      "execution_count": 46,
      "outputs": [
        {
          "output_type": "stream",
          "text": [
            "yrs.service    157\n",
            "salary         157\n",
            "dtype: int64\n"
          ],
          "name": "stdout"
        }
      ]
    },
    {
      "cell_type": "code",
      "metadata": {
        "colab": {
          "base_uri": "https://localhost:8080/"
        },
        "id": "9EXMFqhWtuB3",
        "outputId": "a8bb232e-ffe0-4188-e6cd-bf4bc23ad0bf"
      },
      "source": [
        "print(experience_20years.mean())"
      ],
      "execution_count": 49,
      "outputs": [
        {
          "output_type": "stream",
          "text": [
            "yrs.service        31.057325\n",
            "salary         122520.656051\n",
            "dtype: float64\n"
          ],
          "name": "stdout"
        }
      ]
    },
    {
      "cell_type": "code",
      "metadata": {
        "colab": {
          "base_uri": "https://localhost:8080/"
        },
        "id": "JM1wygwSuMKI",
        "outputId": "90d830c6-83ee-4eab-ef53-62a31ab76f84"
      },
      "source": [
        "experience_lessthan_20years = experience_salary[experience_salary['yrs.service']<20]\n",
        "print(experience_lessthan_20years.mean())"
      ],
      "execution_count": 50,
      "outputs": [
        {
          "output_type": "stream",
          "text": [
            "yrs.service         8.820833\n",
            "salary         107940.504167\n",
            "dtype: float64\n"
          ],
          "name": "stdout"
        }
      ]
    },
    {
      "cell_type": "code",
      "metadata": {
        "colab": {
          "base_uri": "https://localhost:8080/"
        },
        "id": "PV5jFiMWumEX",
        "outputId": "cea77125-bd0f-4e2d-fedf-040a43445085"
      },
      "source": [
        "difference = experience_20years.mean()[['salary']] - experience_lessthan_20years.mean()[['salary']]\n",
        "print(difference)"
      ],
      "execution_count": 51,
      "outputs": [
        {
          "output_type": "stream",
          "text": [
            "salary    14580.151884\n",
            "dtype: float64\n"
          ],
          "name": "stdout"
        }
      ]
    },
    {
      "cell_type": "code",
      "metadata": {
        "colab": {
          "base_uri": "https://localhost:8080/"
        },
        "id": "BoBTkgJfwU1D",
        "outputId": "11c9b568-3138-4e55-c0c6-82c8d3737d3c"
      },
      "source": [
        "greaterthanor_200k = experience_salary[experience_salary['salary']>=2000000]\n",
        "print(greaterthanor_200k.count().to_string())"
      ],
      "execution_count": 57,
      "outputs": [
        {
          "output_type": "stream",
          "text": [
            "yrs.service    0\n",
            "salary         0\n"
          ],
          "name": "stdout"
        }
      ]
    },
    {
      "cell_type": "markdown",
      "metadata": {
        "id": "EpYTnwLJy8e3"
      },
      "source": [
        "-The Median salary for all females is 103750.0, and all males is 108043.0\n",
        "\n",
        "-The difference between mean salaries of male and female is 14088.01\n",
        "\n",
        "-People receive $14580.15 more salary if their experinence is over 20 years\n",
        "\n",
        "-Noone's salary is greater than or equal to 200,000\n"
      ]
    },
    {
      "cell_type": "code",
      "metadata": {
        "colab": {
          "base_uri": "https://localhost:8080/"
        },
        "id": "srQdLwtfzczE",
        "outputId": "1730e739-bc7e-41b4-8887-06e1baed08b9"
      },
      "source": [
        "df = pd.read_csv('https://raw.githubusercontent.com/CunyLaguardiaDataAnalytics/datasets/master/Salaries.csv')\n",
        "clean_df = df\n",
        "print(clean_df)"
      ],
      "execution_count": 59,
      "outputs": [
        {
          "output_type": "stream",
          "text": [
            "     Unnamed: 0      rank discipline  yrs.since.phd  yrs.service   sex  salary\n",
            "0             1      Prof          B             19           18  Male  139750\n",
            "1             2      Prof          B             20           16  Male  173200\n",
            "2             3  AsstProf          B              4            3  Male   79750\n",
            "3             4      Prof          B             45           39  Male  115000\n",
            "4             5      Prof          B             40           41  Male  141500\n",
            "..          ...       ...        ...            ...          ...   ...     ...\n",
            "392         393      Prof          A             33           30  Male  103106\n",
            "393         394      Prof          A             31           19  Male  150564\n",
            "394         395      Prof          A             42           25  Male  101738\n",
            "395         396      Prof          A             25           15  Male   95329\n",
            "396         397  AsstProf          A              8            4  Male   81035\n",
            "\n",
            "[397 rows x 7 columns]\n"
          ],
          "name": "stdout"
        }
      ]
    },
    {
      "cell_type": "code",
      "metadata": {
        "colab": {
          "base_uri": "https://localhost:8080/",
          "height": 349
        },
        "id": "WvPvf05_0ult",
        "outputId": "04f1d682-d383-4b7f-fd3e-8b6f163aed1d"
      },
      "source": [
        "import seaborn as sns\n",
        "sns.distplot(clean_df['salary'], bins = 20)\n",
        "plt.title('Distribution of salary range')\n",
        "plt.show()"
      ],
      "execution_count": 66,
      "outputs": [
        {
          "output_type": "stream",
          "text": [
            "/usr/local/lib/python3.7/dist-packages/seaborn/distributions.py:2557: FutureWarning: `distplot` is a deprecated function and will be removed in a future version. Please adapt your code to use either `displot` (a figure-level function with similar flexibility) or `histplot` (an axes-level function for histograms).\n",
            "  warnings.warn(msg, FutureWarning)\n"
          ],
          "name": "stderr"
        },
        {
          "output_type": "display_data",
          "data": {
            "image/png": "[encoded data removed]",
            "text/plain": [
              "<Figure size 432x288 with 1 Axes>"
            ]
          },
          "metadata": {
            "tags": [],
            "needs_background": "light"
          }
        }
      ]
    },
    {
      "cell_type": "code",
      "metadata": {
        "colab": {
          "base_uri": "https://localhost:8080/",
          "height": 366
        },
        "id": "h9O-4h1gz9x7",
        "outputId": "0b2e07b8-56d1-4ceb-e9e0-2129b97f2cee"
      },
      "source": [
        "df.hist()"
      ],
      "execution_count": 60,
      "outputs": [
        {
          "output_type": "execute_result",
          "data": {
            "text/plain": [
              "array([[<matplotlib.axes._subplots.AxesSubplot object at 0x7fba1239c610>,\n",
              "        <matplotlib.axes._subplots.AxesSubplot object at 0x7fba1223d310>],\n",
              "       [<matplotlib.axes._subplots.AxesSubplot object at 0x7fba121f6950>,\n",
              "        <matplotlib.axes._subplots.AxesSubplot object at 0x7fba12221b10>]],\n",
              "      dtype=object)"
            ]
          },
          "metadata": {
            "tags": []
          },
          "execution_count": 60
        },
        {
          "output_type": "display_data",
          "data": {
            "image/png": "[encoded data removed]",
            "text/plain": [
              "<Figure size 432x288 with 4 Axes>"
            ]
          },
          "metadata": {
            "tags": [],
            "needs_background": "light"
          }
        }
      ]
    },
    {
      "cell_type": "code",
      "metadata": {
        "colab": {
          "base_uri": "https://localhost:8080/",
          "height": 282
        },
        "id": "88G65tl-0CPD",
        "outputId": "e6705d14-49ca-463c-917e-0c6493349c32"
      },
      "source": [
        "df.boxplot()"
      ],
      "execution_count": 61,
      "outputs": [
        {
          "output_type": "execute_result",
          "data": {
            "text/plain": [
              "<matplotlib.axes._subplots.AxesSubplot at 0x7fba11bf0510>"
            ]
          },
          "metadata": {
            "tags": []
          },
          "execution_count": 61
        },
        {
          "output_type": "display_data",
          "data": {
            "image/png": "[encoded data removed]",
            "text/plain": [
              "<Figure size 432x288 with 1 Axes>"
            ]
          },
          "metadata": {
            "tags": [],
            "needs_background": "light"
          }
        }
      ]
    },
    {
      "cell_type": "code",
      "metadata": {
        "colab": {
          "base_uri": "https://localhost:8080/",
          "height": 299
        },
        "id": "wPuAQCcY0LLZ",
        "outputId": "b137bb62-592f-404d-92db-037eec0e9ba7"
      },
      "source": [
        "df.plot(x='yrs.service', y='salary', kind='bar')"
      ],
      "execution_count": 63,
      "outputs": [
        {
          "output_type": "execute_result",
          "data": {
            "text/plain": [
              "<matplotlib.axes._subplots.AxesSubplot at 0x7fba11b2e750>"
            ]
          },
          "metadata": {
            "tags": []
          },
          "execution_count": 63
        },
        {
          "output_type": "display_data",
          "data": {
            "image/png": "[encoded data removed]",
            "text/plain": [
              "<Figure size 432x288 with 1 Axes>"
            ]
          },
          "metadata": {
            "tags": [],
            "needs_background": "light"
          }
        }
      ]
    },
    {
      "cell_type": "code",
      "metadata": {
        "colab": {
          "base_uri": "https://localhost:8080/",
          "height": 322
        },
        "id": "iKIhWiUO0bJX",
        "outputId": "d6c9ad8e-67d1-4335-810b-65a41f7c6620"
      },
      "source": [
        "df.plot(x='sex', y='salary', kind='bar')"
      ],
      "execution_count": 65,
      "outputs": [
        {
          "output_type": "execute_result",
          "data": {
            "text/plain": [
              "<matplotlib.axes._subplots.AxesSubplot at 0x7fba11b51110>"
            ]
          },
          "metadata": {
            "tags": []
          },
          "execution_count": 65
        },
        {
          "output_type": "display_data",
          "data": {
            "image/png": "[encoded data removed]",
            "text/plain": [
              "<Figure size 432x288 with 1 Axes>"
            ]
          },
          "metadata": {
            "tags": [],
            "needs_background": "light"
          }
        }
      ]
    },
    {
      "cell_type": "markdown",
      "metadata": {
        "id": "p3ziKHqC1NMc"
      },
      "source": [
        "-Experienced people earn more than less experienced people"
      ]
    }
  ]
}