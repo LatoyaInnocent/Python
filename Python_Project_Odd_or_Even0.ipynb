{
  "nbformat": 4,
  "nbformat_minor": 0,
  "metadata": {
    "colab": {
      "name": "Python Project - Odd or Even0.ipynb",
      "provenance": [],
      "collapsed_sections": [],
      "authorship_tag": "ABX9TyMs9WjubjGn0BV/9KJM/VNk",
      "include_colab_link": true
    },
    "kernelspec": {
      "name": "python3",
      "display_name": "Python 3"
    },
    "language_info": {
      "name": "python"
    }
  },
  "cells": [
    {
      "cell_type": "markdown",
      "metadata": {
        "id": "view-in-github",
        "colab_type": "text"
      },
      "source": [
        "<a href=\"https://colab.research.google.com/github/LatoyaInnocent/Python/blob/main/Python_Project_Odd_or_Even0.ipynb\" target=\"_parent\"><img src=\"https://colab.research.google.com/assets/colab-badge.svg\" alt=\"Open In Colab\"/></a>"
      ]
    },
    {
      "cell_type": "markdown",
      "metadata": {
        "id": "OzGD-kJccpll"
      },
      "source": [
        "Ask the user for a number. Depending on whether the number is even or odd, print out an appropriate message to the user.\n",
        "Hint: how does an even/odd number react differently when divided by 2?\n",
        "\n",
        "Extras:\n",
        "1. If the number is a multiple of 4, print out a different message."
      ]
    },
    {
      "cell_type": "code",
      "metadata": {
        "id": "bLp5iIZCau5M"
      },
      "source": [
        "num = input(\"Enter a number: \")\n",
        "if int (num) % 2 == 0:\n",
        "  print(str(num) + \" is an Even number.\")\n",
        "else:\n",
        "  print(str(num) + \" is an Odd number.\")  \n",
        "\n",
        "if int (num) % 4 ==0:\n",
        "  print(str(num) + \" is a multiple of 4.\")  "
      ],
      "execution_count": null,
      "outputs": []
    },
    {
      "cell_type": "markdown",
      "metadata": {
        "id": "Tlh_T_42kHKL"
      },
      "source": [
        "2. Ask the user for two numbers: one number to check(call it num) and one number to divide by (check). If check divides evenly into num, tell that to the user. If not, print a different appropriate message."
      ]
    },
    {
      "cell_type": "code",
      "metadata": {
        "id": "W8xObD97kMy6"
      },
      "source": [
        "num = input(\"Enter a number: \")\n",
        "check = input(\"Enter another number: \")\n",
        "if int (num) % int (check) == 0:\n",
        "  print(str(num) + \" divides evenly by \" + str(check)+\".\")\n",
        "else:\n",
        "  print(str(num) + \" does NOT divide evenly by \" + str(check)+\".\")  "
      ],
      "execution_count": null,
      "outputs": []
    }
  ]
}